{
 "cells": [
  {
   "cell_type": "code",
   "execution_count": 32,
   "id": "04ec2e52",
   "metadata": {},
   "outputs": [],
   "source": [
    "import geopandas as gpd\n",
    "import pandas as pd"
   ]
  },
  {
   "cell_type": "code",
   "execution_count": 54,
   "id": "99b6d5b9",
   "metadata": {},
   "outputs": [],
   "source": [
    "gdf = gpd.read_file('./data/base/PARBR2018_BATER.shp')\n",
    "table = pd.read_excel(io = './data/VariaveisMorador/PARBR2018_VariaveisMorador.xls', sheet_name=\"SQL Results\")"
   ]
  },
  {
   "cell_type": "code",
   "execution_count": 55,
   "id": "b767d0a6",
   "metadata": {},
   "outputs": [],
   "source": [
    "gdf['GEO_BATER'] = gdf.GEO_BATER.astype(str)\n",
    "table['COD_BATER'] = table.COD_BATER.astype(str)"
   ]
  },
  {
   "cell_type": "code",
   "execution_count": 61,
   "id": "48221bf5",
   "metadata": {},
   "outputs": [],
   "source": [
    "gdf = pd.merge(\n",
    "    gdf,\n",
    "    table,\n",
    "    how=\"inner\",\n",
    "    right_on=\"COD_BATER\",\n",
    "    left_on=\"GEO_BATER\"\n",
    ")"
   ]
  },
  {
   "cell_type": "code",
   "execution_count": 62,
   "id": "98f4c673",
   "metadata": {},
   "outputs": [],
   "source": [
    "gdf = gdf.to_crs('epsg:4326')"
   ]
  },
  {
   "cell_type": "code",
   "execution_count": 63,
   "id": "208b3da2",
   "metadata": {},
   "outputs": [],
   "source": [
    "gdf.to_file('populacao.json', driver=\"GeoJSON\")"
   ]
  },
  {
   "cell_type": "code",
   "execution_count": null,
   "id": "7e14c00e",
   "metadata": {},
   "outputs": [],
   "source": []
  }
 ],
 "metadata": {
  "kernelspec": {
   "display_name": "Python 3",
   "language": "python",
   "name": "python3"
  },
  "language_info": {
   "codemirror_mode": {
    "name": "ipython",
    "version": 3
   },
   "file_extension": ".py",
   "mimetype": "text/x-python",
   "name": "python",
   "nbconvert_exporter": "python",
   "pygments_lexer": "ipython3",
   "version": "3.9.2"
  }
 },
 "nbformat": 4,
 "nbformat_minor": 5
}
